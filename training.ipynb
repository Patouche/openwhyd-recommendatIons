{
 "cells": [
  {
   "cell_type": "code",
   "execution_count": 1,
   "metadata": {},
   "outputs": [],
   "source": [
    "import pandas"
   ]
  },
  {
   "cell_type": "code",
   "execution_count": 3,
   "metadata": {},
   "outputs": [],
   "source": [
    "csv = pandas.read_csv(\"logs.csv\")"
   ]
  },
  {
   "cell_type": "code",
   "execution_count": 17,
   "metadata": {},
   "outputs": [],
   "source": [
    "user_groups = csv.groupby('user')"
   ]
  },
  {
   "cell_type": "code",
   "execution_count": 22,
   "metadata": {
    "scrolled": false
   },
   "outputs": [
    {
     "data": {
      "text/plain": [
       "(0,         user          song\n",
       " 0          0   jgVCcADF4rQ\n",
       " 1          0   jgVCcADF4rQ\n",
       " 2          0   nHRsPd7HY2w\n",
       " 3          0   1RrsiGmLp_E\n",
       " 2197       0   1RrsiGmLp_E\n",
       " 2200       0   U__lpPDTUS4\n",
       " 5407       0   jgVCcADF4rQ\n",
       " 7844       0   Qsjy8_6fPXk\n",
       " 7863       0   U__lpPDTUS4\n",
       " 7904       0   OGc7I91GZ8w\n",
       " 7905       0   OGc7I91GZ8w\n",
       " 7909       0   OGc7I91GZ8w\n",
       " 7913       0   J1SWn2IGOV4\n",
       " 7917       0   jgVCcADF4rQ\n",
       " 7918       0   nHRsPd7HY2w\n",
       " 7925       0   1RrsiGmLp_E\n",
       " 7950       0   U__lpPDTUS4\n",
       " 8003       0   7fxL-sxN7fo\n",
       " 8004       0   7fxL-sxN7fo\n",
       " 8005       0   7fxL-sxN7fo\n",
       " 8010       0   y02sJS26_XE\n",
       " 8018       0   hC8CH0Z3L54\n",
       " 8021       0   J1SWn2IGOV4\n",
       " 8026       0   DG9_pVQaJKY\n",
       " 8042       0   IdTtE559yzg\n",
       " 8043       0   _BJwZPZ0MHU\n",
       " 8046       0   kX6_cRf9UPk\n",
       " 8050       0   fHX9XP0spP8\n",
       " 8051       0   Tlb-QCD4pVg\n",
       " 8054       0   h5rMfLJKwIE\n",
       " ...      ...           ...\n",
       " 577238     0   TU9iQfrEqpM\n",
       " 577244     0   DtKdqwRC07A\n",
       " 577246     0   MH3XegtkCu8\n",
       " 577310     0   bLvcbJQUbUU\n",
       " 577334     0   CV65tWCZALI\n",
       " 577336     0   WUo0-s8xgLI\n",
       " 577337     0   hTjm7x4-4g8\n",
       " 577340     0   YWGCEDYJAZ4\n",
       " 577990     0   XlpTLDulFe8\n",
       " 578017     0   B_owihGOYqk\n",
       " 578022     0   IEHau8sRX0A\n",
       " 578030     0   sgiRnolRSYg\n",
       " 578037     0   CGJAkyTgwi8\n",
       " 578058     0   TTHF2Dfw1Dg\n",
       " 578067     0   u2ymU278HIc\n",
       " 578464     0   5SH0Adox9LA\n",
       " 578467     0   APVw8323XOk\n",
       " 578469     0   M6vYzrD9eBE\n",
       " 578471     0   HkX_jR00JGU\n",
       " 578477     0   2l7ojLDw7Uw\n",
       " 578478     0   2l7ojLDw7Uw\n",
       " 578486     0   jo699fAKGnA\n",
       " 578511     0   dHL3JzN_z30\n",
       " 578515     0   E11DAkrjlP8\n",
       " 578517     0   AiuC_CaObbI\n",
       " 578526     0   BeKJZSeiqRc\n",
       " 578529     0   6hIgBEXuQD8\n",
       " 578530     0   2vc4qX-M_7Y\n",
       " 578538     0   XlpTLDulFe8\n",
       " 578539     0   TTHF2Dfw1Dg\n",
       " \n",
       " [684 rows x 2 columns])"
      ]
     },
     "execution_count": 22,
     "metadata": {},
     "output_type": "execute_result"
    }
   ],
   "source": [
    "next(iter(list(user_groups)))\n",
    "# user_groups.head()"
   ]
  }
 ],
 "metadata": {
  "kernelspec": {
   "display_name": "Python 3",
   "language": "python",
   "name": "python3"
  },
  "language_info": {
   "codemirror_mode": {
    "name": "ipython",
    "version": 3
   },
   "file_extension": ".py",
   "mimetype": "text/x-python",
   "name": "python",
   "nbconvert_exporter": "python",
   "pygments_lexer": "ipython3",
   "version": "3.5.2"
  }
 },
 "nbformat": 4,
 "nbformat_minor": 2
}
